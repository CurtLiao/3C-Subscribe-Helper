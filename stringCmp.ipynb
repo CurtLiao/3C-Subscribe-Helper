{
 "cells": [
  {
   "cell_type": "code",
   "execution_count": 1,
   "metadata": {},
   "outputs": [],
   "source": [
    "import sqlite3 as lite\n",
    "import re\n",
    "import pandas as pd\n",
    "import webbrowser\n",
    "from selenium import webdriver\n",
    "from termcolor import *\n",
    "import string\n",
    "import parseR\n",
    "import jieba"
   ]
  },
  {
   "cell_type": "code",
   "execution_count": 2,
   "metadata": {},
   "outputs": [],
   "source": [
    "conn = lite.connect('cellphone.sqlite')\n",
    "df = pd.read_sql_query(\"select * from new;\", conn)"
   ]
  },
  {
   "cell_type": "code",
   "execution_count": 26,
   "metadata": {},
   "outputs": [],
   "source": [
    "def checkProd(searchWord,expPrice):\n",
    "    title = []\n",
    "    price = []\n",
    "    website = []\n",
    "    n = 0\n",
    "    base = expPrice/5                                   #價錢基準化\n",
    "    for char in string.punctuation:                     #去掉字串中符號\n",
    "        searchWord = searchWord.replace(char, '')\n",
    "    searchWord = searchWord.replace(\" \",\"\")             #刪掉字串空白\n",
    "    print(searchWord)\n",
    "    b = re.split(r'([\\d+])',searchWord,maxsplit=5)\n",
    "    print(b)\n",
    "    for i in range(len(df.values)):                     #查看資料庫所有資料\n",
    "        for k in range(len(b)):                         #字串切割後的len\n",
    "            if(b[k]!=\"\"):                               #不看list中空白部分\n",
    "                if(re.search(b[k],df.values[i][0],re.IGNORECASE)):#比對字串中符合之字串\n",
    "                    n = n + 1\n",
    "            else:\n",
    "                n  = n + 1\n",
    "        #print(n)\n",
    "        if(n==len(b)):\n",
    "            if(df.values[i][1] >= expPrice-base and df.values[i][1] <= expPrice+base):#字串符合比對價錢是否符合\n",
    "                    title+=[df.values[i][0]]\n",
    "                    price+=[df.values[i][1]]\n",
    "                    website+=[df.values[i][2]]\n",
    "        n = 0\n",
    "    return title, price, website\n",
    "    '''\n",
    "    for i in range(len(df.values)):\n",
    "        m = re.search(searchWord, df.values[i][0], re.IGNORECASE)\n",
    "        if(bool(m)==1):\n",
    "            if(df.values[i][1] >= expPrice-base and df.values[i][1] <= expPrice+base):\n",
    "                cprint(\"標題:{%s} , 價錢{%d}\" %(df.values[i][0],df.values[i][1]),'green')\n",
    "                #return \"title:%s,price:%d,website:%s\"% (df.values[i][0] , df.values[i][1] , df.values[i][2])\n",
    "    '''"
   ]
  },
  {
   "cell_type": "code",
   "execution_count": 21,
   "metadata": {},
   "outputs": [],
   "source": [
    "#結巴分詞\n",
    "def none_empty(s):\n",
    "    return s and s.strip()\n",
    "def checkProd(searchWord,expPrice):\n",
    "    cutWord = []\n",
    "    n = 0\n",
    "    title = []\n",
    "    price = []\n",
    "    website = []\n",
    "    base = expPrice/5\n",
    "    for char in string.punctuation:                     #去掉字串中符號\n",
    "        searchWord = searchWord.replace(char, '')\n",
    "    wordlist = jieba.cut_for_search(searchWord)         #利用結巴斷詞\n",
    "    print(wordlist)\n",
    "    for i in wordlist:\n",
    "        cutWord += [i]\n",
    "    res = filter(none_empty, cutWord)                   #去掉list中空白部分\n",
    "    cutWord = []\n",
    "    for i in res:\n",
    "        cutWord += [i]\n",
    "    print(cutWord)\n",
    "    for i in range(len(df.values)):\n",
    "        for k in range(len(cutWord)):\n",
    "            if(re.search(cutWord[k],df.values[i][0],re.IGNORECASE)):#比對字串中符合之字串\n",
    "                n = n + 1\n",
    "        if(n==len(cutWord)):\n",
    "            if(df.values[i][1] >= expPrice-base and df.values[i][1] <= expPrice+base):#字串符合比對價錢是否符合\n",
    "                    title+=[df.values[i][0]]\n",
    "                    price+=[df.values[i][1]]\n",
    "                    website+=[df.values[i][2]]\n",
    "        n = 0\n",
    "    return title, price, website"
   ]
  }
 ],
 "metadata": {
  "kernelspec": {
   "display_name": "Python 3",
   "language": "python",
   "name": "python3"
  },
  "language_info": {
   "codemirror_mode": {
    "name": "ipython",
    "version": 3
   },
   "file_extension": ".py",
   "mimetype": "text/x-python",
   "name": "python",
   "nbconvert_exporter": "python",
   "pygments_lexer": "ipython3",
   "version": "3.6.4"
  }
 },
 "nbformat": 4,
 "nbformat_minor": 2
}
